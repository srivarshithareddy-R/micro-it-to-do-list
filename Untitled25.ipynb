{
 "cells": [
  {
   "cell_type": "code",
   "execution_count": 1,
   "id": "4a11e52d-27a2-4a43-aa47-5693cfc74b3e",
   "metadata": {},
   "outputs": [
    {
     "name": "stdout",
     "output_type": "stream",
     "text": [
      "\n",
      "To-Do List Menu:\n",
      "1. Add task\n",
      "2. View tasks\n",
      "3. Mark task as completed\n",
      "4. Remove task\n",
      "5. Exit\n"
     ]
    },
    {
     "name": "stdin",
     "output_type": "stream",
     "text": [
      "Enter your choice:  1\n",
      "Enter task description:  buying vegetables\n"
     ]
    },
    {
     "name": "stdout",
     "output_type": "stream",
     "text": [
      "Task added.\n",
      "\n",
      "To-Do List Menu:\n",
      "1. Add task\n",
      "2. View tasks\n",
      "3. Mark task as completed\n",
      "4. Remove task\n",
      "5. Exit\n"
     ]
    },
    {
     "name": "stdin",
     "output_type": "stream",
     "text": [
      "Enter your choice:  2\n"
     ]
    },
    {
     "name": "stdout",
     "output_type": "stream",
     "text": [
      "1. [ ] buying vegetables\n",
      "\n",
      "To-Do List Menu:\n",
      "1. Add task\n",
      "2. View tasks\n",
      "3. Mark task as completed\n",
      "4. Remove task\n",
      "5. Exit\n"
     ]
    },
    {
     "name": "stdin",
     "output_type": "stream",
     "text": [
      "Enter your choice:  3\n"
     ]
    },
    {
     "name": "stdout",
     "output_type": "stream",
     "text": [
      "1. [ ] buying vegetables\n"
     ]
    },
    {
     "name": "stdin",
     "output_type": "stream",
     "text": [
      "Enter task number to mark as completed:  3\n"
     ]
    },
    {
     "name": "stdout",
     "output_type": "stream",
     "text": [
      "Invalid task number.\n",
      "\n",
      "To-Do List Menu:\n",
      "1. Add task\n",
      "2. View tasks\n",
      "3. Mark task as completed\n",
      "4. Remove task\n",
      "5. Exit\n"
     ]
    },
    {
     "name": "stdin",
     "output_type": "stream",
     "text": [
      "Enter your choice:  3\n"
     ]
    },
    {
     "name": "stdout",
     "output_type": "stream",
     "text": [
      "1. [ ] buying vegetables\n"
     ]
    },
    {
     "name": "stdin",
     "output_type": "stream",
     "text": [
      "Enter task number to mark as completed:  1\n"
     ]
    },
    {
     "name": "stdout",
     "output_type": "stream",
     "text": [
      "Task marked as completed.\n",
      "\n",
      "To-Do List Menu:\n",
      "1. Add task\n",
      "2. View tasks\n",
      "3. Mark task as completed\n",
      "4. Remove task\n",
      "5. Exit\n"
     ]
    },
    {
     "name": "stdin",
     "output_type": "stream",
     "text": [
      "Enter your choice:  4\n"
     ]
    },
    {
     "name": "stdout",
     "output_type": "stream",
     "text": [
      "1. [x] buying vegetables\n"
     ]
    },
    {
     "name": "stdin",
     "output_type": "stream",
     "text": [
      "Enter task number to remove:  1\n"
     ]
    },
    {
     "name": "stdout",
     "output_type": "stream",
     "text": [
      "Task removed.\n",
      "\n",
      "To-Do List Menu:\n",
      "1. Add task\n",
      "2. View tasks\n",
      "3. Mark task as completed\n",
      "4. Remove task\n",
      "5. Exit\n"
     ]
    },
    {
     "name": "stdin",
     "output_type": "stream",
     "text": [
      "Enter your choice:  5\n"
     ]
    },
    {
     "name": "stdout",
     "output_type": "stream",
     "text": [
      "Exiting...\n"
     ]
    }
   ],
   "source": [
    "def display_menu():\n",
    "    print(\"\\nTo-Do List Menu:\")\n",
    "    print(\"1. Add task\")\n",
    "    print(\"2. View tasks\")\n",
    "    print(\"3. Mark task as completed\")\n",
    "    print(\"4. Remove task\")\n",
    "    print(\"5. Exit\")\n",
    "\n",
    "def add_task(tasks):\n",
    "    task = input(\"Enter task description: \")\n",
    "    tasks.append({\"task\": task, \"completed\": False})\n",
    "    print(\"Task added.\")\n",
    "\n",
    "def view_tasks(tasks):\n",
    "    if not tasks:\n",
    "        print(\"No tasks in the list.\")\n",
    "        return\n",
    "    for index, task in enumerate(tasks):\n",
    "        status = \"[x]\" if task[\"completed\"] else \"[ ]\"\n",
    "        print(f\"{index+1}. {status} {task['task']}\")\n",
    "\n",
    "def mark_completed(tasks):\n",
    "    view_tasks(tasks)\n",
    "    try:\n",
    "        choice = int(input(\"Enter task number to mark as completed: \")) - 1\n",
    "        if 0 <= choice < len(tasks):\n",
    "            tasks[choice][\"completed\"] = True\n",
    "            print(\"Task marked as completed.\")\n",
    "        else:\n",
    "            print(\"Invalid task number.\")\n",
    "    except ValueError:\n",
    "        print(\"Invalid input. Please enter a number.\")\n",
    "\n",
    "def remove_task(tasks):\n",
    "    view_tasks(tasks)\n",
    "    try:\n",
    "        choice = int(input(\"Enter task number to remove: \")) - 1\n",
    "        if 0 <= choice < len(tasks):\n",
    "            del tasks[choice]\n",
    "            print(\"Task removed.\")\n",
    "        else:\n",
    "            print(\"Invalid task number.\")\n",
    "    except ValueError:\n",
    "        print(\"Invalid input. Please enter a number.\")\n",
    "\n",
    "def main():\n",
    "    tasks = []\n",
    "    while True:\n",
    "        display_menu()\n",
    "        try:\n",
    "            choice = int(input(\"Enter your choice: \"))\n",
    "            if choice == 1:\n",
    "                add_task(tasks)\n",
    "            elif choice == 2:\n",
    "                view_tasks(tasks)\n",
    "            elif choice == 3:\n",
    "                mark_completed(tasks)\n",
    "            elif choice == 4:\n",
    "                remove_task(tasks)\n",
    "            elif choice == 5:\n",
    "                print(\"Exiting...\")\n",
    "                break\n",
    "            else:\n",
    "                print(\"Invalid choice. Please try again.\")\n",
    "        except ValueError:\n",
    "            print(\"Invalid input. Please enter a number.\")\n",
    "\n",
    "if __name__ == \"__main__\":\n",
    "    main()"
   ]
  },
  {
   "cell_type": "code",
   "execution_count": null,
   "id": "8baa73fe-a0a8-4616-91ac-12748c9acd21",
   "metadata": {},
   "outputs": [],
   "source": []
  }
 ],
 "metadata": {
  "kernelspec": {
   "display_name": "Python [conda env:base] *",
   "language": "python",
   "name": "conda-base-py"
  },
  "language_info": {
   "codemirror_mode": {
    "name": "ipython",
    "version": 3
   },
   "file_extension": ".py",
   "mimetype": "text/x-python",
   "name": "python",
   "nbconvert_exporter": "python",
   "pygments_lexer": "ipython3",
   "version": "3.12.4"
  }
 },
 "nbformat": 4,
 "nbformat_minor": 5
}
